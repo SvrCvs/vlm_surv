{
 "cells": [
  {
   "cell_type": "markdown",
   "metadata": {},
   "source": [
    "# Merge .csv files with interrogation metrics into one dataset"
   ]
  },
  {
   "cell_type": "code",
   "execution_count": 3,
   "metadata": {},
   "outputs": [
    {
     "name": "stdout",
     "output_type": "stream",
     "text": [
      "Aggregated 1513061 rows from 12000 video logs.\n"
     ]
    }
   ],
   "source": [
    "import os\n",
    "import pandas as pd\n",
    "\n",
    "# Define the top-level results folders for each model\n",
    "model_folders = [\n",
    "    \"results_qwen_tot\",\n",
    "    \"results_llava_tot\",\n",
    "    \"results_deepseek_tot\",\n",
    "    \"results_instructblip_tot\"\n",
    "]\n",
    "\n",
    "all_logs = []\n",
    "\n",
    "for model_dir in model_folders:\n",
    "    model_name = model_dir.replace(\"results_\", \"\").replace(\"_tot\", \"\").capitalize()\n",
    "\n",
    "    if not os.path.isdir(model_dir):\n",
    "        print(f\"Skipping missing folder: {model_dir}\")\n",
    "        continue\n",
    "\n",
    "    for category in sorted(os.listdir(model_dir)):\n",
    "        category_path = os.path.join(model_dir, category)\n",
    "        if not os.path.isdir(category_path):\n",
    "            continue\n",
    "\n",
    "        for difficulty in sorted(os.listdir(category_path)):\n",
    "            difficulty_path = os.path.join(category_path, difficulty)\n",
    "            if not os.path.isdir(difficulty_path):\n",
    "                continue\n",
    "\n",
    "            for video_id in sorted(os.listdir(difficulty_path)):\n",
    "                video_path = os.path.join(difficulty_path, video_id)\n",
    "                csv_path = os.path.join(video_path, \"performance_log.csv\")\n",
    "\n",
    "                if not os.path.isfile(csv_path):\n",
    "                    continue\n",
    "\n",
    "                try:\n",
    "                    df = pd.read_csv(csv_path)\n",
    "\n",
    "                    # Drop Readability column if it exists\n",
    "                    if \"Readability\" in df.columns:\n",
    "                        df = df.drop(columns=[\"Readability\"])\n",
    "\n",
    "                    df[\"category\"] = category\n",
    "                    df[\"difficulty\"] = difficulty\n",
    "                    df[\"video_id\"] = video_id\n",
    "                    all_logs.append(df)\n",
    "                except Exception as e:\n",
    "                    print(f\"Failed to load {csv_path}: {e}\")\n",
    "\n",
    "# Combine and save\n",
    "if all_logs:\n",
    "    full_df = pd.concat(all_logs, ignore_index=True)\n",
    "    full_df.to_csv(\"model.csv\", index=False)\n",
    "    print(f\"Aggregated {len(full_df)} rows from {len(all_logs)} video logs.\")\n",
    "else:\n",
    "    print(\"No CSV logs found.\")"
   ]
  },
  {
   "cell_type": "markdown",
   "metadata": {},
   "source": [
    "# Merge .txt files with interrogation outputs into a .csv dataset"
   ]
  },
  {
   "cell_type": "code",
   "execution_count": 8,
   "metadata": {},
   "outputs": [
    {
     "name": "stdout",
     "output_type": "stream",
     "text": [
      "Saved 1513061 rows to 'dataset_results.csv'\n"
     ]
    }
   ],
   "source": [
    "import os\n",
    "import re\n",
    "import pandas as pd\n",
    "\n",
    "model_folders = [\n",
    "    \"results_qwen_tot\",\n",
    "    \"results_llava_tot\",\n",
    "    \"results_deepseek_tot\",\n",
    "    \"results_instructblip_tot\"\n",
    "]\n",
    "\n",
    "model_name_map = {\n",
    "    \"results_qwen_tot\": \"Qwen2.5-VL\",\n",
    "    \"results_llava_tot\": \"LLaVA\",\n",
    "    \"results_deepseek_tot\": \"DeepSeek-VL\",\n",
    "    \"results_instructblip_tot\": \"InstructBLIP\"\n",
    "}\n",
    "\n",
    "all_logs = []\n",
    "\n",
    "# Match both dash and en-dash; handle lowercase answers\n",
    "pattern = re.compile(\n",
    "    r\"Frame (\\d+) \\(Time: ([\\d.]+)s\\) [–-] Confidence: ([\\d.]+) [–-] (yes|no|unclear) [–-] Processing Time: ([\\d.]+)ms\",\n",
    "    re.IGNORECASE\n",
    ")\n",
    "\n",
    "for model_folder in model_folders:\n",
    "    if not os.path.exists(model_folder):\n",
    "        continue\n",
    "\n",
    "    model_name = model_name_map[model_folder]\n",
    "\n",
    "    for category in os.listdir(model_folder):\n",
    "        cat_path = os.path.join(model_folder, category)\n",
    "        if not os.path.isdir(cat_path):\n",
    "            continue\n",
    "\n",
    "        for difficulty in os.listdir(cat_path):\n",
    "            diff_path = os.path.join(cat_path, difficulty)\n",
    "            if not os.path.isdir(diff_path):\n",
    "                continue\n",
    "\n",
    "            for video_id in os.listdir(diff_path):\n",
    "                vid_path = os.path.join(diff_path, video_id)\n",
    "                results_file = os.path.join(vid_path, \"results.txt\")\n",
    "                if not os.path.isfile(results_file):\n",
    "                    continue\n",
    "\n",
    "                with open(results_file, \"r\") as f:\n",
    "                    for line in f:\n",
    "                        match = pattern.search(line.strip())\n",
    "                        if match:\n",
    "                            all_logs.append({\n",
    "                                \"Frame\": int(match.group(1)),\n",
    "                                \"Time (s)\": float(match.group(2)),\n",
    "                                \"Confidence\": float(match.group(3)),\n",
    "                                \"Response\": match.group(4).capitalize(),\n",
    "                                \"Inference Time (ms)\": float(match.group(5)),\n",
    "                                \"Model\": model_name,\n",
    "                                \"category\": category,\n",
    "                                \"difficulty\": difficulty,\n",
    "                                \"video_id\": video_id\n",
    "                            })\n",
    "\n",
    "df = pd.DataFrame(all_logs)\n",
    "df.sort_values(by=[\"Model\", \"category\", \"difficulty\", \"video_id\", \"Frame\"], inplace=True)\n",
    "df.to_csv(\"dataset_results.csv\", index=False)\n",
    "\n",
    "print(f\"Saved {len(df)} rows to 'dataset_results.csv'\")"
   ]
  }
 ],
 "metadata": {
  "kernelspec": {
   "display_name": "nlp",
   "language": "python",
   "name": "python3"
  },
  "language_info": {
   "codemirror_mode": {
    "name": "ipython",
    "version": 3
   },
   "file_extension": ".py",
   "mimetype": "text/x-python",
   "name": "python",
   "nbconvert_exporter": "python",
   "pygments_lexer": "ipython3",
   "version": "3.10.13"
  }
 },
 "nbformat": 4,
 "nbformat_minor": 2
}
